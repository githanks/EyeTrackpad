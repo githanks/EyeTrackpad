{
 "cells": [
  {
   "cell_type": "code",
   "execution_count": 1,
   "id": "6cffef6d",
   "metadata": {},
   "outputs": [
    {
     "name": "stdout",
     "output_type": "stream",
     "text": [
      "Current meta columns: ['out_path', 'rel_path', 'file_name', 'eye_label', 'x0', 'y0', 'x1', 'y1', 'out_size', 'pad_scale']\n"
     ]
    }
   ],
   "source": [
    "from pathlib import Path\n",
    "import pandas as pd\n",
    "\n",
    "# --- Config ---\n",
    "PERSON = \"p00\"  # change to your subject\n",
    "REPO_ROOT = Path.cwd()  # or manually point to your repo root\n",
    "DATASET_ROOT = REPO_ROOT / \"dataset\" / \"MPIIFaceGaze\"\n",
    "OUT_DIR = REPO_ROOT / \"outputs\" / \"preprocessed\" / PERSON\n",
    "\n",
    "META_PATH = OUT_DIR / \"meta.csv\"\n",
    "ANNOT_PATH = DATASET_ROOT / PERSON / f\"{PERSON}.txt\"\n",
    "META_EXPANDED_PATH = OUT_DIR / \"meta_expanded.csv\"\n",
    "\n",
    "# --- Load existing meta ---\n",
    "meta = pd.read_csv(META_PATH)\n",
    "print(\"Current meta columns:\", meta.columns.tolist())\n"
   ]
  },
  {
   "cell_type": "code",
   "execution_count": 2,
   "id": "f8a028f1",
   "metadata": {},
   "outputs": [
    {
     "name": "stdout",
     "output_type": "stream",
     "text": [
      "Annotation rows parsed: 2927\n"
     ]
    }
   ],
   "source": [
    "def parse_annotation_line(line: str):\n",
    "    t = line.strip().split()\n",
    "    if len(t) < 28: return None\n",
    "    rel_path = t[0]\n",
    "    sx, sy = float(t[1]), float(t[2])\n",
    "    rvec = tuple(map(float, t[15:18]))\n",
    "    tvec = tuple(map(float, t[18:21]))\n",
    "    fc   = tuple(map(float, t[21:24]))\n",
    "    gt   = tuple(map(float, t[24:27]))\n",
    "    eye_label = t[27].lower()\n",
    "\n",
    "    # Gaze vectors\n",
    "    gaze_dx, gaze_dy, gaze_dz = gt[0]-fc[0], gt[1]-fc[1], gt[2]-fc[2]\n",
    "    n = (gaze_dx**2 + gaze_dy**2 + gaze_dz**2)**0.5\n",
    "    gaze_ux, gaze_uy, gaze_uz = (gaze_dx/n, gaze_dy/n, gaze_dz/n) if n>0 else (0,0,0)\n",
    "\n",
    "    return {\n",
    "        \"rel_path\": rel_path,\n",
    "        \"eye_label\": eye_label,\n",
    "        \"screen_x\": sx, \"screen_y\": sy,\n",
    "        \"rvec_x\": rvec[0], \"rvec_y\": rvec[1], \"rvec_z\": rvec[2],\n",
    "        \"tvec_x\": tvec[0], \"tvec_y\": tvec[1], \"tvec_z\": tvec[2],\n",
    "        \"fc_x\": fc[0], \"fc_y\": fc[1], \"fc_z\": fc[2],\n",
    "        \"gt_x\": gt[0], \"gt_y\": gt[1], \"gt_z\": gt[2],\n",
    "        \"gaze_dx\": gaze_dx, \"gaze_dy\": gaze_dy, \"gaze_dz\": gaze_dz,\n",
    "        \"gaze_ux\": gaze_ux, \"gaze_uy\": gaze_uy, \"gaze_uz\": gaze_uz\n",
    "    }\n",
    "\n",
    "# Build annotation DataFrame\n",
    "rows = []\n",
    "with open(ANNOT_PATH, \"r\", encoding=\"utf-8\") as f:\n",
    "    for ln in f:\n",
    "        rec = parse_annotation_line(ln)\n",
    "        if rec: rows.append(rec)\n",
    "ann_df = pd.DataFrame(rows)\n",
    "print(\"Annotation rows parsed:\", len(ann_df))\n"
   ]
  },
  {
   "cell_type": "code",
   "execution_count": 3,
   "id": "49568a82",
   "metadata": {},
   "outputs": [
    {
     "name": "stdout",
     "output_type": "stream",
     "text": [
      "Wrote expanded meta: c:\\Users\\jayfo\\OneDrive\\Desktop\\EyeTrackpad\\outputs\\preprocessed\\p00\\meta_expanded.csv\n",
      "                                            out_path        rel_path  \\\n",
      "0  C:\\Users\\jayfo\\OneDrive\\Desktop\\EyeTrackpad\\ou...  day01/0005.jpg   \n",
      "1  C:\\Users\\jayfo\\OneDrive\\Desktop\\EyeTrackpad\\ou...  day01/0030.jpg   \n",
      "2  C:\\Users\\jayfo\\OneDrive\\Desktop\\EyeTrackpad\\ou...  day01/0031.jpg   \n",
      "3  C:\\Users\\jayfo\\OneDrive\\Desktop\\EyeTrackpad\\ou...  day01/0038.jpg   \n",
      "4  C:\\Users\\jayfo\\OneDrive\\Desktop\\EyeTrackpad\\ou...  day01/0063.jpg   \n",
      "\n",
      "              file_name eye_label   x0   y0   x1   y1  out_size  pad_scale  \\\n",
      "0  day01_0005.jpg_R.png     right  577  327  654  404        64        0.4   \n",
      "1  day01_0030.jpg_L.png      left  621  340  711  431        64        0.4   \n",
      "2  day01_0031.jpg_L.png      left  722  347  802  427        64        0.4   \n",
      "3  day01_0038.jpg_R.png     right  575  369  661  456        64        0.4   \n",
      "4  day01_0063.jpg_R.png     right  531  332  603  404        64        0.4   \n",
      "\n",
      "   ...        fc_z        gt_x        gt_y       gt_z     gaze_dx     gaze_dy  \\\n",
      "0  ...  524.537075   11.040978  166.869249 -27.728178  -16.751134  143.446557   \n",
      "1  ...  477.888383 -123.405644  153.787666 -16.911922 -112.312392  118.752945   \n",
      "2  ...  478.976511   88.833604  130.231245 -32.639103   54.368338   98.785419   \n",
      "3  ...  503.507272   68.867316   12.105732 -27.491372   38.401615  -34.308240   \n",
      "4  ...  535.283755  -78.668260  166.500859 -20.765887  -81.403464  144.327549   \n",
      "\n",
      "      gaze_dz   gaze_ux   gaze_uy   gaze_uz  \n",
      "0 -552.265253 -0.029345  0.251292 -0.967466  \n",
      "1 -494.800305 -0.215530  0.227890 -0.949533  \n",
      "2 -511.615614  0.103777  0.188560 -0.976563  \n",
      "3 -530.998644  0.071982 -0.064309 -0.995331  \n",
      "4 -556.049642 -0.140299  0.248749 -0.958353  \n",
      "\n",
      "[5 rows x 30 columns]\n"
     ]
    }
   ],
   "source": [
    "# Ensure eye_label is present in meta\n",
    "if \"eye_label\" not in meta.columns:\n",
    "    def infer_eye(fn: str):\n",
    "        s = str(fn).lower()\n",
    "        if s.endswith(\"_l.png\"): return \"left\"\n",
    "        if s.endswith(\"_r.png\"): return \"right\"\n",
    "        return None\n",
    "    meta[\"eye_label\"] = meta[\"file_name\"].map(infer_eye)\n",
    "\n",
    "# Merge on rel_path + eye_label\n",
    "merged = pd.merge(meta, ann_df, on=[\"rel_path\",\"eye_label\"], how=\"left\", validate=\"m:1\")\n",
    "\n",
    "# Reorder columns\n",
    "front_cols = [\"out_path\",\"rel_path\",\"file_name\",\"eye_label\",\n",
    "              \"x0\",\"y0\",\"x1\",\"y1\",\"out_size\",\"pad_scale\"]\n",
    "extra_cols = [\"screen_x\",\"screen_y\",\n",
    "              \"rvec_x\",\"rvec_y\",\"rvec_z\",\n",
    "              \"tvec_x\",\"tvec_y\",\"tvec_z\",\n",
    "              \"fc_x\",\"fc_y\",\"fc_z\",\n",
    "              \"gt_x\",\"gt_y\",\"gt_z\",\n",
    "              \"gaze_dx\",\"gaze_dy\",\"gaze_dz\",\n",
    "              \"gaze_ux\",\"gaze_uy\",\"gaze_uz\"]\n",
    "\n",
    "merged = merged[front_cols + extra_cols]\n",
    "\n",
    "# Save\n",
    "merged.to_csv(META_EXPANDED_PATH, index=False, float_format=\"%.6f\")\n",
    "print(\"Wrote expanded meta:\", META_EXPANDED_PATH)\n",
    "print(merged.head())\n"
   ]
  }
 ],
 "metadata": {
  "kernelspec": {
   "display_name": "Python 3",
   "language": "python",
   "name": "python3"
  },
  "language_info": {
   "codemirror_mode": {
    "name": "ipython",
    "version": 3
   },
   "file_extension": ".py",
   "mimetype": "text/x-python",
   "name": "python",
   "nbconvert_exporter": "python",
   "pygments_lexer": "ipython3",
   "version": "3.11.9"
  }
 },
 "nbformat": 4,
 "nbformat_minor": 5
}
